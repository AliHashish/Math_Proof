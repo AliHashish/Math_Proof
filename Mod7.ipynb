{
 "cells": [
  {
   "cell_type": "markdown",
   "metadata": {},
   "source": [
    "# Divisible by 7?"
   ]
  },
  {
   "cell_type": "markdown",
   "metadata": {},
   "source": [
    "Check whether a specific number is divisible by 7 or not. The number contains many digits of 9 concatenated with a single 7 at the end. For example if the number contains 3 digits of 9 it will be 9997. You are given a single integer N which is the number of digits of 9 within a specific number. You have to tell whether the number is divisible by 7 or not."
   ]
  },
  {
   "cell_type": "markdown",
   "metadata": {},
   "source": [
    "### Input\n",
    "The first line contains a single integer T denoting the number of test cases (1 <= T <= 10^5). Each of the next T lines xontains one integer N, the number of digits of 9 in the number(1 <= N <= 10^18)."
   ]
  },
  {
   "cell_type": "markdown",
   "metadata": {},
   "source": [
    "### Output\n",
    "\"YES\" if the number formed by n digits of 9 concatenated with a single 7 will produce a number which is divisible by 7, otherwise \"NO\"."
   ]
  },
  {
   "cell_type": "code",
   "execution_count": 1,
   "metadata": {},
   "outputs": [
    {
     "name": "stdout",
     "output_type": "stream",
     "text": [
      "YES\n",
      "NO\n",
      "NO\n",
      "YES\n"
     ]
    }
   ],
   "source": [
    "T = int(input(\"Enter the number of test cases: \"))\n",
    "for i in range(T):\n",
    "    N = int(input(\"Enter the number of digits of 9: \"))\n",
    "    if (N % 6 == 0):\n",
    "        print(\"YES\")\n",
    "    else:\n",
    "        print(\"NO\")"
   ]
  }
 ],
 "metadata": {
  "kernelspec": {
   "display_name": "Python 3",
   "language": "python",
   "name": "python3"
  },
  "language_info": {
   "codemirror_mode": {
    "name": "ipython",
    "version": 3
   },
   "file_extension": ".py",
   "mimetype": "text/x-python",
   "name": "python",
   "nbconvert_exporter": "python",
   "pygments_lexer": "ipython3",
   "version": "3.10.7"
  }
 },
 "nbformat": 4,
 "nbformat_minor": 2
}
